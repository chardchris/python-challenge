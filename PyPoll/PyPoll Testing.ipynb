{
 "cells": [
  {
   "cell_type": "code",
   "execution_count": 1,
   "metadata": {},
   "outputs": [
    {
     "name": "stdout",
     "output_type": "stream",
     "text": [
      "Election  Results\n",
      "Total Votes: 3521001\n",
      "Khan: 63.0% (2218231)\n",
      "Correy: 20.0% (704200)\n",
      "Li: 14.0% (492940)\n",
      "O'Tooley: 3.0% (105630)\n",
      "Winner: Khan\n"
     ]
    }
   ],
   "source": [
    "import csv\n",
    "import statistics\n",
    "\n",
    "PyPollpath = r\"C:\\Users\\chard\\Desktop\\UCDSAC201902DATA4\\03-Python\\Homework\\Instruction\\PyPoll\\Resources\\election_data.csv\"\n",
    "\n",
    "with open(PyPollpath, newline='') as PypollCSV:\n",
    "    Pypoll = csv.reader(PypollCSV, delimiter = \",\")\n",
    "    PyPheader = next(Pypoll, None)\n",
    "    \n",
    "    voteIDs=[]\n",
    "    candidates=[]\n",
    "    for row in Pypoll:\n",
    "        candidates.append(row[2])\n",
    "    \n",
    "    canlist = list(dict.fromkeys(candidates))\n",
    "        \n",
    "    old_winner = 0\n",
    "    winner = str()\n",
    "    for i in canlist:\n",
    "        if candidates.count(i) > old_winner:\n",
    "            winner = i\n",
    "            old_winner = candidates.count(i)\n",
    "    \n",
    "    print(f'Election  Results')\n",
    "    print(f'Total Votes: {len(candidates)}')\n",
    "    print(f'{canlist[0]}: {round(candidates.count(canlist[0])/len(candidates)*100,2)}% ({candidates.count(canlist[0])})')\n",
    "    print(f'{canlist[1]}: {round(candidates.count(canlist[1])/len(candidates)*100,2)}% ({candidates.count(canlist[1])})')\n",
    "    print(f'{canlist[2]}: {round(candidates.count(canlist[2])/len(candidates)*100,2)}% ({candidates.count(canlist[2])})')\n",
    "    print(f'{canlist[3]}: {round(candidates.count(canlist[3])/len(candidates)*100,2)}% ({candidates.count(canlist[3])})')\n",
    "    print(f'Winner: {winner}')\n",
    "    "
   ]
  }
 ],
 "metadata": {
  "kernelspec": {
   "display_name": "Python 3",
   "language": "python",
   "name": "python3"
  },
  "language_info": {
   "codemirror_mode": {
    "name": "ipython",
    "version": 3
   },
   "file_extension": ".py",
   "mimetype": "text/x-python",
   "name": "python",
   "nbconvert_exporter": "python",
   "pygments_lexer": "ipython3",
   "version": "3.7.0"
  }
 },
 "nbformat": 4,
 "nbformat_minor": 2
}
