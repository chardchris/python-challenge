{
 "cells": [
  {
   "cell_type": "code",
   "execution_count": 87,
   "metadata": {},
   "outputs": [
    {
     "name": "stdout",
     "output_type": "stream",
     "text": [
      "Total Months: 86\n",
      "Total: $38382578\n",
      "Average Change: $-2315.1176470588234\n",
      "Greatest increase in profits: Feb-2012 $1926159\n",
      "Greatest decrease in profits: Sep-2013 $-2196167\n"
     ]
    }
   ],
   "source": [
    "import csv\n",
    "import statistics\n",
    "\n",
    "PyBankpath = r\"C:\\Users\\chard\\Desktop\\UCDSAC201902DATA4\\03-Python\\Homework\\Instruction\\PyBank\\Resources\\budget_data.csv\"\n",
    "\n",
    "with open(PyBankpath, newline='') as PybankCSV:\n",
    "    Pybank = csv.reader(PybankCSV, delimiter = \",\")\n",
    "    PyBheader = next(Pybank, None)\n",
    "    months=[]\n",
    "    profit = []\n",
    "    change = []\n",
    "    for row in Pybank:\n",
    "        months.append(row[0])\n",
    "        profit.append(int(row[1]))                 \n",
    "    for i in range(1,len(profit)):\n",
    "        change.append(int(profit[i]-profit[i-1]))\n",
    "        \n",
    "avgchange = statistics.mean(change)\n",
    "    \n",
    "      \n",
    "print(f'Total Months: {len(months)}')\n",
    "print(f'Total: ${sum(profit)}')\n",
    "print(f'Average Change: ${avgchange}')\n",
    "print(f'Greatest increase in profits: {months[change.index(max(change))+1]} ${max(change)}')\n",
    "print(f'Greatest decrease in profits: {months[change.index(min(change))+1]} ${min(change)}')"
   ]
  }
 ],
 "metadata": {
  "kernelspec": {
   "display_name": "Python 3",
   "language": "python",
   "name": "python3"
  },
  "language_info": {
   "codemirror_mode": {
    "name": "ipython",
    "version": 3
   },
   "file_extension": ".py",
   "mimetype": "text/x-python",
   "name": "python",
   "nbconvert_exporter": "python",
   "pygments_lexer": "ipython3",
   "version": "3.7.0"
  }
 },
 "nbformat": 4,
 "nbformat_minor": 2
}
